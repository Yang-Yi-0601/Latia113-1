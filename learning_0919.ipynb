{
  "nbformat": 4,
  "nbformat_minor": 0,
  "metadata": {
    "colab": {
      "provenance": [],
      "gpuType": "T4"
    },
    "kernelspec": {
      "name": "python3",
      "display_name": "Python 3"
    },
    "language_info": {
      "name": "python"
    },
    "accelerator": "GPU"
  },
  "cells": [
    {
      "cell_type": "markdown",
      "source": [
        "2024/9/19 學習分析工具實用 上課練習"
      ],
      "metadata": {
        "id": "XiNCZazGqouG"
      }
    },
    {
      "cell_type": "markdown",
      "source": [
        "輸出練習"
      ],
      "metadata": {
        "id": "SswUID8yq74G"
      }
    },
    {
      "cell_type": "code",
      "execution_count": null,
      "metadata": {
        "id": "S08zp2h73mOW",
        "colab": {
          "base_uri": "https://localhost:8080/"
        },
        "outputId": "390f4b72-e823-4c8a-d9d1-38c7bed1d1de"
      },
      "outputs": [
        {
          "output_type": "stream",
          "name": "stdout",
          "text": [
            "Hello World!\n"
          ]
        }
      ],
      "source": [
        "print('Hello World!')"
      ]
    },
    {
      "cell_type": "markdown",
      "source": [
        "變數練習"
      ],
      "metadata": {
        "id": "qtW5EEYAq-RU"
      }
    },
    {
      "cell_type": "code",
      "source": [
        "a=1\n",
        "print(a)"
      ],
      "metadata": {
        "colab": {
          "base_uri": "https://localhost:8080/"
        },
        "id": "xfY_ENOVRznG",
        "outputId": "b5a573d0-4483-454e-9a5d-1eee665fcda2"
      },
      "execution_count": null,
      "outputs": [
        {
          "output_type": "stream",
          "name": "stdout",
          "text": [
            "1\n"
          ]
        }
      ]
    },
    {
      "cell_type": "code",
      "source": [
        "a=1\n",
        "b=c=a\n",
        "print(a,b,c)"
      ],
      "metadata": {
        "colab": {
          "base_uri": "https://localhost:8080/"
        },
        "id": "GwK0rKqISMdV",
        "outputId": "3b5b8a20-bcd8-4950-bb8c-cd5849c1b662"
      },
      "execution_count": null,
      "outputs": [
        {
          "output_type": "stream",
          "name": "stdout",
          "text": [
            "1 1 1\n"
          ]
        }
      ]
    },
    {
      "cell_type": "code",
      "source": [
        "a=1\n",
        "b=a\n",
        "a=2\n",
        "print(a,b)"
      ],
      "metadata": {
        "colab": {
          "base_uri": "https://localhost:8080/"
        },
        "id": "ljPI_nfbSTsN",
        "outputId": "ce33ffe1-7072-4a31-f82b-2317b53f37c7"
      },
      "execution_count": null,
      "outputs": [
        {
          "output_type": "stream",
          "name": "stdout",
          "text": [
            "2 1\n"
          ]
        }
      ]
    },
    {
      "cell_type": "markdown",
      "source": [
        "字串練習"
      ],
      "metadata": {
        "id": "K5MTkw-8rBu1"
      }
    },
    {
      "cell_type": "code",
      "source": [
        "print(\"ooxx is my name\")\n",
        "print('\"ooxx\" is my name')\n",
        "a=\"\"\"ooxx\n",
        "is\n",
        "my\n",
        "name\"\"\"\n",
        "print(a)"
      ],
      "metadata": {
        "colab": {
          "base_uri": "https://localhost:8080/"
        },
        "id": "FzqT-Ff6TLxs",
        "outputId": "a2fb313b-bcab-4c9b-c48d-78221396ee3d"
      },
      "execution_count": null,
      "outputs": [
        {
          "output_type": "stream",
          "name": "stdout",
          "text": [
            "ooxx is my name\n",
            "\"ooxx\" is my name\n",
            "ooxx\n",
            "is\n",
            "my\n",
            "name\n"
          ]
        }
      ]
    },
    {
      "cell_type": "code",
      "source": [
        "a=\"0123456789abcdef\"\n",
        "print(a[0])\n",
        "print(a[3])\n",
        "print(a[8])\n",
        "print(a[-1])\n",
        "print(a[:])\n",
        "print(a[5:])\n",
        "print(a[:5])\n",
        "print(a[5:10])\n",
        "print(a[5:-3])\n",
        "print(a[5:10:2])\n",
        "print(a[5:12:2])"
      ],
      "metadata": {
        "colab": {
          "base_uri": "https://localhost:8080/"
        },
        "id": "UKzjp5VgTm-8",
        "outputId": "ea142ca4-5828-4bf5-bf77-7c75fde4a585"
      },
      "execution_count": null,
      "outputs": [
        {
          "output_type": "stream",
          "name": "stdout",
          "text": [
            "0\n",
            "3\n",
            "8\n",
            "f\n",
            "0123456789abcdef\n",
            "56789abcdef\n",
            "01234\n",
            "56789\n",
            "56789abc\n",
            "579\n",
            "579b\n"
          ]
        }
      ]
    },
    {
      "cell_type": "code",
      "source": [
        "a='hello world'\n",
        "print(len(a))\n",
        "b='hello world, i am ooxx, how are you?'\n",
        "print(len(b))\n",
        "print(b.split(','))\n",
        "print(b.split(' '))\n",
        "print(b.split())"
      ],
      "metadata": {
        "colab": {
          "base_uri": "https://localhost:8080/"
        },
        "id": "pVsPUCaSU69a",
        "outputId": "cdd581ec-65b4-46ce-ef3a-23fb4fb4c8bd"
      },
      "execution_count": null,
      "outputs": [
        {
          "output_type": "stream",
          "name": "stdout",
          "text": [
            "11\n",
            "36\n",
            "['hello world', ' i am ooxx', ' how are you?']\n",
            "['hello', 'world,', 'i', 'am', 'ooxx,', 'how', 'are', 'you?']\n",
            "['hello', 'world,', 'i', 'am', 'ooxx,', 'how', 'are', 'you?']\n"
          ]
        }
      ]
    },
    {
      "cell_type": "code",
      "source": [
        "a='hello '\n",
        "b='world'\n",
        "print(a+b)\n",
        "print(a*3)"
      ],
      "metadata": {
        "colab": {
          "base_uri": "https://localhost:8080/"
        },
        "id": "y0fW517EYO5P",
        "outputId": "b91a783e-e9f5-4ba9-a7b8-ee9d7bdbd8e5"
      },
      "execution_count": null,
      "outputs": [
        {
          "output_type": "stream",
          "name": "stdout",
          "text": [
            "hello world\n",
            "hello hello hello \n"
          ]
        }
      ]
    },
    {
      "cell_type": "markdown",
      "source": [
        "串列練習"
      ],
      "metadata": {
        "id": "rU_OW1RVrHTk"
      }
    },
    {
      "cell_type": "code",
      "source": [
        "a=['apple','banana','orange']\n",
        "b=[1,2,3,4,5]\n",
        "c=['apple',1,2,3,['dog','cat']]\n",
        "d=list('apple')\n",
        "print(a,b,c,d)\n",
        "print(f\"a={a}\\nb={b}\\nc={c}\\nd={d}\")"
      ],
      "metadata": {
        "colab": {
          "base_uri": "https://localhost:8080/"
        },
        "id": "RDTR-iukbYht",
        "outputId": "791f9891-b07a-4475-a721-5d2d8c446c0d"
      },
      "execution_count": null,
      "outputs": [
        {
          "output_type": "stream",
          "name": "stdout",
          "text": [
            "['apple', 'banana', 'orange'] [1, 2, 3, 4, 5] ['apple', 1, 2, 3, ['dog', 'cat']] ['a', 'p', 'p', 'l', 'e']\n",
            "a=['apple', 'banana', 'orange']\n",
            "b=[1, 2, 3, 4, 5]\n",
            "c=['apple', 1, 2, 3, ['dog', 'cat']]\n",
            "d=['a', 'p', 'p', 'l', 'e']\n"
          ]
        }
      ]
    },
    {
      "cell_type": "markdown",
      "source": [
        "tuple練習"
      ],
      "metadata": {
        "id": "B4FU2Rc-rOPd"
      }
    },
    {
      "cell_type": "code",
      "source": [
        "t=('apple','banana','orange')\n",
        "a,b,c=t\n",
        "print(a,b,c)\n",
        "print(t[0])\n",
        "print(t[1])\n",
        "print(t[2])\n",
        "t2=('pineapple','grap')\n",
        "print(t+t2)"
      ],
      "metadata": {
        "colab": {
          "base_uri": "https://localhost:8080/"
        },
        "id": "wSflxfFidGSh",
        "outputId": "2b2d5706-502a-4f1f-817c-bb65bc87c0f8"
      },
      "execution_count": null,
      "outputs": [
        {
          "output_type": "stream",
          "name": "stdout",
          "text": [
            "apple banana orange\n",
            "apple\n",
            "banana\n",
            "orange\n",
            "('apple', 'banana', 'orange', 'pineapple', 'grap')\n"
          ]
        }
      ]
    },
    {
      "cell_type": "markdown",
      "source": [
        "dict練習"
      ],
      "metadata": {
        "id": "ixikfdVSrT8V"
      }
    },
    {
      "cell_type": "code",
      "source": [
        "a=dict(name='ooxx',age=18,eat=['apple','banana'])\n",
        "print(a)\n",
        "print(a['name'])\n",
        "print(a['age'])\n",
        "print(type(a))"
      ],
      "metadata": {
        "colab": {
          "base_uri": "https://localhost:8080/"
        },
        "id": "csXYNokNekiZ",
        "outputId": "7d5efe36-b4c4-4bff-f526-1918b282917e"
      },
      "execution_count": null,
      "outputs": [
        {
          "output_type": "stream",
          "name": "stdout",
          "text": [
            "{'name': 'ooxx', 'age': 18, 'eat': ['apple', 'banana']}\n",
            "ooxx\n",
            "18\n",
            "<class 'dict'>\n"
          ]
        }
      ]
    },
    {
      "cell_type": "markdown",
      "source": [
        "set練習"
      ],
      "metadata": {
        "id": "YJcUMnMVrYYc"
      }
    },
    {
      "cell_type": "code",
      "source": [
        "a=set()\n",
        "b=set([1,2,3,4,5,1,2,3,4,5])\n",
        "c=set({'x':1,'y':2,'z':3})\n",
        "d=set('hello')\n",
        "print(a)\n",
        "print(b)\n",
        "print(c)\n",
        "print(d)"
      ],
      "metadata": {
        "colab": {
          "base_uri": "https://localhost:8080/"
        },
        "id": "Dlbw1LlNfqKR",
        "outputId": "4542487e-1332-4b5e-d573-0d3095c0ab4d"
      },
      "execution_count": null,
      "outputs": [
        {
          "output_type": "stream",
          "name": "stdout",
          "text": [
            "set()\n",
            "{1, 2, 3, 4, 5}\n",
            "{'z', 'x', 'y'}\n",
            "{'l', 'h', 'o', 'e'}\n"
          ]
        }
      ]
    },
    {
      "cell_type": "markdown",
      "source": [
        "比較運算練習"
      ],
      "metadata": {
        "id": "7ya1BbmJrbdY"
      }
    },
    {
      "cell_type": "code",
      "source": [
        "a=2\n",
        "b=3\n",
        "if a>b:\n",
        "  print('Hello')\n",
        "print('ok')"
      ],
      "metadata": {
        "colab": {
          "base_uri": "https://localhost:8080/"
        },
        "id": "SFjJ4svIpni9",
        "outputId": "06a4c155-5d93-4ea1-bd09-fc57cdea6da3"
      },
      "execution_count": null,
      "outputs": [
        {
          "output_type": "stream",
          "name": "stdout",
          "text": [
            "ok\n"
          ]
        }
      ]
    },
    {
      "cell_type": "code",
      "source": [
        "a=2\n",
        "b=3\n",
        "if a>b:\n",
        "  print('Hello')\n",
        "else:\n",
        "  print('world')\n",
        "print('ok')"
      ],
      "metadata": {
        "colab": {
          "base_uri": "https://localhost:8080/"
        },
        "id": "hKu1A364p6fd",
        "outputId": "1088d350-a246-42be-cf8f-e274077e44a8"
      },
      "execution_count": null,
      "outputs": [
        {
          "output_type": "stream",
          "name": "stdout",
          "text": [
            "world\n",
            "ok\n"
          ]
        }
      ]
    },
    {
      "cell_type": "code",
      "source": [
        "a=2\n",
        "b=3\n",
        "if a<b:\n",
        "  print('a<b')\n",
        "  if a==1:\n",
        "    print('a=1')\n",
        "  elif a==2:\n",
        "    print('a=2')\n",
        "  elif a==3:\n",
        "    print('a=3')\n",
        "elif a>b:\n",
        "  print('a>b')\n",
        "else:\n",
        "  print('a=b')\n",
        "print('ok')"
      ],
      "metadata": {
        "colab": {
          "base_uri": "https://localhost:8080/"
        },
        "id": "jw7-u0FwqGZu",
        "outputId": "6980313f-e5ce-4179-a7a1-f53afde49038"
      },
      "execution_count": null,
      "outputs": [
        {
          "output_type": "stream",
          "name": "stdout",
          "text": [
            "a<b\n",
            "a=2\n",
            "ok\n"
          ]
        }
      ]
    },
    {
      "cell_type": "markdown",
      "source": [
        "邏輯判斷練習"
      ],
      "metadata": {
        "id": "ohDy1MEDroru"
      }
    },
    {
      "cell_type": "code",
      "source": [
        "a=2\n",
        "b=3\n",
        "c=0\n",
        "if a>b or a<c and a==2 or b==4:\n",
        "  print('ok1')\n",
        "else:\n",
        "  print('XXX')"
      ],
      "metadata": {
        "colab": {
          "base_uri": "https://localhost:8080/"
        },
        "id": "ss1PfYqdrsNs",
        "outputId": "5666b8b0-c1ee-4544-9816-7cac08d2e623"
      },
      "execution_count": null,
      "outputs": [
        {
          "output_type": "stream",
          "name": "stdout",
          "text": [
            "XXX\n"
          ]
        }
      ]
    },
    {
      "cell_type": "markdown",
      "source": [
        "迴圈練習"
      ],
      "metadata": {
        "id": "znRrrSLQsCaE"
      }
    },
    {
      "cell_type": "code",
      "source": [
        "for a in ['x','y','z']:\n",
        "  for b in [1,2,3]:\n",
        "    print(b)\n",
        "  print(a)"
      ],
      "metadata": {
        "colab": {
          "base_uri": "https://localhost:8080/"
        },
        "id": "RYeRrZWWsElt",
        "outputId": "dc212039-9f6f-4b4d-b2d2-bb69c6a6eb02"
      },
      "execution_count": null,
      "outputs": [
        {
          "output_type": "stream",
          "name": "stdout",
          "text": [
            "1\n",
            "2\n",
            "3\n",
            "x\n",
            "1\n",
            "2\n",
            "3\n",
            "y\n",
            "1\n",
            "2\n",
            "3\n",
            "z\n"
          ]
        }
      ]
    },
    {
      "cell_type": "code",
      "source": [
        "for a in ['x','y','z']:\n",
        "  for b in [1,2,3]:\n",
        "    print(f\"{a}{b}\")"
      ],
      "metadata": {
        "colab": {
          "base_uri": "https://localhost:8080/"
        },
        "id": "XiLkfUH1sQzH",
        "outputId": "fbd55141-14ae-4c47-b499-a508f99e3ec6"
      },
      "execution_count": null,
      "outputs": [
        {
          "output_type": "stream",
          "name": "stdout",
          "text": [
            "x1\n",
            "x2\n",
            "x3\n",
            "y1\n",
            "y2\n",
            "y3\n",
            "z1\n",
            "z2\n",
            "z3\n"
          ]
        }
      ]
    },
    {
      "cell_type": "code",
      "source": [
        "i=[]\n",
        "for t in range(10):\n",
        "  t+=1\n",
        "  i.append(t)\n",
        "print(i)"
      ],
      "metadata": {
        "colab": {
          "base_uri": "https://localhost:8080/"
        },
        "id": "q6Y79ffgsg8M",
        "outputId": "a989e075-4313-4d73-b362-e9b7f6791c6a"
      },
      "execution_count": null,
      "outputs": [
        {
          "output_type": "stream",
          "name": "stdout",
          "text": [
            "[1, 2, 3, 4, 5, 6, 7, 8, 9, 10]\n"
          ]
        }
      ]
    },
    {
      "cell_type": "markdown",
      "source": [
        "try、except練習"
      ],
      "metadata": {
        "id": "wnD5PFTTtKBl"
      }
    },
    {
      "cell_type": "code",
      "source": [
        "try:\n",
        "  a=int(input('輸入數字: '))\n",
        "  print(a+1)\n",
        "except:\n",
        "  pass\n",
        "print('hello')"
      ],
      "metadata": {
        "colab": {
          "base_uri": "https://localhost:8080/"
        },
        "id": "QkIDBqrDtObe",
        "outputId": "4198ed92-df05-4c33-cd69-bc7664bc7bf6"
      },
      "execution_count": 1,
      "outputs": [
        {
          "output_type": "stream",
          "name": "stdout",
          "text": [
            "輸入數字: 1\n",
            "2\n",
            "hello\n"
          ]
        }
      ]
    },
    {
      "cell_type": "markdown",
      "source": [
        "加分題串列生成式"
      ],
      "metadata": {
        "id": "LKzTf0tQuF9d"
      }
    },
    {
      "cell_type": "code",
      "source": [
        "a=[]\n",
        "for i in range(1,10):\n",
        "  a.append(i*i)\n",
        "print(a)\n",
        "\n",
        "b=[j*j for j in range(1,10)]\n",
        "print(b)\n",
        "\n",
        "c=[k+2 for k in range(10)]\n",
        "print(c)"
      ],
      "metadata": {
        "colab": {
          "base_uri": "https://localhost:8080/"
        },
        "id": "2o1ys9viuMPk",
        "outputId": "5fd512b7-2012-4b08-a3fa-0d5c673cab0f"
      },
      "execution_count": null,
      "outputs": [
        {
          "output_type": "stream",
          "name": "stdout",
          "text": [
            "[1, 4, 9, 16, 25, 36, 49, 64, 81]\n",
            "[1, 4, 9, 16, 25, 36, 49, 64, 81]\n",
            "[2, 3, 4, 5, 6, 7, 8, 9, 10, 11]\n"
          ]
        }
      ]
    }
  ]
}